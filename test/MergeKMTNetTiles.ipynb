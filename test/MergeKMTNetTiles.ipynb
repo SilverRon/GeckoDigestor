{
 "cells": [
  {
   "cell_type": "code",
   "execution_count": 6,
   "metadata": {},
   "outputs": [],
   "source": [
    "from astropy.table import Table, vstack\n",
    "import numpy as np"
   ]
  },
  {
   "attachments": {},
   "cell_type": "markdown",
   "metadata": {},
   "source": [
    "# Center"
   ]
  },
  {
   "cell_type": "code",
   "execution_count": 7,
   "metadata": {},
   "outputs": [],
   "source": [
    "ks4tbl = Table.read(\"../data/skygrid/KMTNet-ks4/displaycenter.txt\", format=\"ascii\")\n",
    "addtbl = Table.read(\"../data/skygrid/KMTNet/displaycenter.txt.bkg\", format=\"ascii\")"
   ]
  },
  {
   "cell_type": "code",
   "execution_count": 8,
   "metadata": {},
   "outputs": [
    {
     "data": {
      "text/html": [
       "<div><i>Table length=8335</i>\n",
       "<table id=\"table4933561936\" class=\"table-striped table-bordered table-condensed\">\n",
       "<thead><tr><th>#id</th><th>ra</th><th>dec</th></tr></thead>\n",
       "<thead><tr><th>int64</th><th>float64</th><th>float64</th></tr></thead>\n",
       "<tr><td>0</td><td>0.0</td><td>-62.0</td></tr>\n",
       "<tr><td>1</td><td>4.090909004211426</td><td>-62.0</td></tr>\n",
       "<tr><td>2</td><td>8.181818008422852</td><td>-62.0</td></tr>\n",
       "<tr><td>3</td><td>12.272727012634277</td><td>-62.0</td></tr>\n",
       "<tr><td>4</td><td>16.363636016845703</td><td>-62.0</td></tr>\n",
       "<tr><td>5</td><td>20.454544067382812</td><td>-62.0</td></tr>\n",
       "<tr><td>6</td><td>24.545454025268555</td><td>-62.0</td></tr>\n",
       "<tr><td>7</td><td>28.636363983154297</td><td>-62.0</td></tr>\n",
       "<tr><td>8</td><td>32.727272033691406</td><td>-62.0</td></tr>\n",
       "<tr><td>9</td><td>36.818180084228516</td><td>-62.0</td></tr>\n",
       "<tr><td>...</td><td>...</td><td>...</td></tr>\n",
       "<tr><td>8325</td><td>338.3132530120482</td><td>28.72340425531915</td></tr>\n",
       "<tr><td>8326</td><td>340.48192771084337</td><td>28.72340425531915</td></tr>\n",
       "<tr><td>8327</td><td>342.6506024096386</td><td>28.72340425531915</td></tr>\n",
       "<tr><td>8328</td><td>344.81927710843377</td><td>28.72340425531915</td></tr>\n",
       "<tr><td>8329</td><td>346.98795180722897</td><td>28.72340425531915</td></tr>\n",
       "<tr><td>8330</td><td>349.1566265060241</td><td>28.72340425531915</td></tr>\n",
       "<tr><td>8331</td><td>351.32530120481925</td><td>28.72340425531915</td></tr>\n",
       "<tr><td>8332</td><td>353.49397590361446</td><td>28.72340425531915</td></tr>\n",
       "<tr><td>8333</td><td>355.66265060240966</td><td>28.72340425531915</td></tr>\n",
       "<tr><td>8334</td><td>357.83132530120486</td><td>28.72340425531915</td></tr>\n",
       "</table></div>"
      ],
      "text/plain": [
       "<Table length=8335>\n",
       " #id          ra                dec       \n",
       "int64      float64            float64     \n",
       "----- ------------------ -----------------\n",
       "    0                0.0             -62.0\n",
       "    1  4.090909004211426             -62.0\n",
       "    2  8.181818008422852             -62.0\n",
       "    3 12.272727012634277             -62.0\n",
       "    4 16.363636016845703             -62.0\n",
       "    5 20.454544067382812             -62.0\n",
       "    6 24.545454025268555             -62.0\n",
       "    7 28.636363983154297             -62.0\n",
       "    8 32.727272033691406             -62.0\n",
       "    9 36.818180084228516             -62.0\n",
       "  ...                ...               ...\n",
       " 8325  338.3132530120482 28.72340425531915\n",
       " 8326 340.48192771084337 28.72340425531915\n",
       " 8327  342.6506024096386 28.72340425531915\n",
       " 8328 344.81927710843377 28.72340425531915\n",
       " 8329 346.98795180722897 28.72340425531915\n",
       " 8330  349.1566265060241 28.72340425531915\n",
       " 8331 351.32530120481925 28.72340425531915\n",
       " 8332 353.49397590361446 28.72340425531915\n",
       " 8333 355.66265060240966 28.72340425531915\n",
       " 8334 357.83132530120486 28.72340425531915"
      ]
     },
     "execution_count": 8,
     "metadata": {},
     "output_type": "execute_result"
    }
   ],
   "source": [
    "comtbl = vstack([ks4tbl, addtbl])\n",
    "comtbl.rename_column('id', '#id')\n",
    "comtbl['#id'] = np.arange(len(comtbl))\n",
    "comtbl"
   ]
  },
  {
   "cell_type": "code",
   "execution_count": 9,
   "metadata": {},
   "outputs": [],
   "source": [
    "comtbl.write('../data/skygrid/KMTNet/displaycenter.txt', format='ascii', overwrite=True)"
   ]
  },
  {
   "attachments": {},
   "cell_type": "markdown",
   "metadata": {},
   "source": [
    "# Footprint"
   ]
  },
  {
   "cell_type": "code",
   "execution_count": 11,
   "metadata": {},
   "outputs": [],
   "source": [
    "ks4tbl = Table.read(\"../data/skygrid/KMTNet-ks4/displayfootprint.txt\", format=\"ascii\")\n",
    "addtbl = Table.read(\"../data/skygrid/KMTNet/displayfootprint.txt.bkg\", format=\"ascii\")\n",
    "\n",
    "comtbl = vstack([ks4tbl, addtbl])\n",
    "# comtbl.rename_column('id', '#id')\n",
    "comtbl['#id'] = np.arange(len(comtbl))\n",
    "\n",
    "comtbl.write('../data/skygrid/KMTNet/displayfootprint.txt', format='ascii', overwrite=True)"
   ]
  }
 ],
 "metadata": {
  "kernelspec": {
   "display_name": "gecko",
   "language": "python",
   "name": "python3"
  },
  "language_info": {
   "codemirror_mode": {
    "name": "ipython",
    "version": 3
   },
   "file_extension": ".py",
   "mimetype": "text/x-python",
   "name": "python",
   "nbconvert_exporter": "python",
   "pygments_lexer": "ipython3",
   "version": "3.11.0"
  },
  "orig_nbformat": 4
 },
 "nbformat": 4,
 "nbformat_minor": 2
}
