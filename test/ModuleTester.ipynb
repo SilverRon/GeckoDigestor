{
 "cells": [
  {
   "cell_type": "code",
   "execution_count": 1,
   "metadata": {},
   "outputs": [],
   "source": [
    "#\tAppend the path to the GECKO project root directory\n",
    "import sys\n",
    "sys.path.append('..')\n",
    "from config.config import GCN_KAFKA_CONFIG"
   ]
  },
  {
   "attachments": {},
   "cell_type": "markdown",
   "metadata": {},
   "source": [
    "# Skymap Handle"
   ]
  },
  {
   "cell_type": "code",
   "execution_count": 2,
   "metadata": {},
   "outputs": [],
   "source": [
    "from astropy.table import QTable\n",
    "from astropy import units as u\n",
    "import astropy_healpix as ah\n",
    "import numpy as np"
   ]
  },
  {
   "cell_type": "code",
   "execution_count": 3,
   "metadata": {},
   "outputs": [],
   "source": [
    "skymap = QTable.read('../data/bayestar.multiorder.fits')"
   ]
  },
  {
   "attachments": {},
   "cell_type": "markdown",
   "metadata": {},
   "source": [
    "## The most probable sky location"
   ]
  },
  {
   "cell_type": "code",
   "execution_count": 4,
   "metadata": {},
   "outputs": [
    {
     "data": {
      "text/plain": [
       "0.07825164701914111"
      ]
     },
     "execution_count": 4,
     "metadata": {},
     "output_type": "execute_result"
    }
   ],
   "source": [
    "i = np.argmax(skymap['PROBDENSITY'])\n",
    "uniq = skymap[i]['UNIQ']\n",
    "skymap[i]['PROBDENSITY'].to_value(u.deg**-2)\n",
    "# 0.07825164701914111"
   ]
  },
  {
   "cell_type": "code",
   "execution_count": 5,
   "metadata": {},
   "outputs": [],
   "source": [
    "level, ipix = ah.uniq_to_level_ipix(uniq)\n",
    "nside = ah.level_to_nside(level)"
   ]
  },
  {
   "cell_type": "code",
   "execution_count": 6,
   "metadata": {},
   "outputs": [
    {
     "data": {
      "text/plain": [
       "(194.30419921874997, -17.856895095545468)"
      ]
     },
     "execution_count": 6,
     "metadata": {},
     "output_type": "execute_result"
    }
   ],
   "source": [
    "ra, dec = ah.healpix_to_lonlat(ipix, nside, order='nested')\n",
    "ra.deg, dec.deg\n",
    "# 194.30419921874997, -17.856895095545468"
   ]
  },
  {
   "cell_type": "code",
   "execution_count": 7,
   "metadata": {},
   "outputs": [],
   "source": [
    "#\tNGC 4993\n",
    "ra = 197.4133 * u.deg\n",
    "dec = -23.3996 * u.deg\n"
   ]
  },
  {
   "cell_type": "code",
   "execution_count": 8,
   "metadata": {},
   "outputs": [],
   "source": [
    "level, ipix = ah.uniq_to_level_ipix(skymap['UNIQ'])\n",
    "nside = ah.level_to_nside(level)\n",
    "match_ipix = ah.lonlat_to_healpix(ra, dec, nside, order='nested')\n"
   ]
  },
  {
   "cell_type": "code",
   "execution_count": 9,
   "metadata": {},
   "outputs": [
    {
     "data": {
      "text/plain": [
       "13484"
      ]
     },
     "execution_count": 9,
     "metadata": {},
     "output_type": "execute_result"
    }
   ],
   "source": [
    "i = np.flatnonzero(ipix == match_ipix)[0]\n",
    "i\n",
    "# 13484\n"
   ]
  },
  {
   "cell_type": "code",
   "execution_count": 10,
   "metadata": {},
   "outputs": [
    {
     "data": {
      "text/plain": [
       "0.034679190989078075"
      ]
     },
     "execution_count": 10,
     "metadata": {},
     "output_type": "execute_result"
    }
   ],
   "source": [
    "skymap[i]['PROBDENSITY'].to_value(u.deg**-2)\n",
    "# 0.034679190989078075"
   ]
  },
  {
   "attachments": {},
   "cell_type": "markdown",
   "metadata": {},
   "source": [
    "# Find the 90% Probability Region"
   ]
  },
  {
   "cell_type": "code",
   "execution_count": 11,
   "metadata": {},
   "outputs": [],
   "source": [
    "skymap.sort('PROBDENSITY', reverse=True)\n"
   ]
  },
  {
   "cell_type": "code",
   "execution_count": 12,
   "metadata": {},
   "outputs": [],
   "source": [
    "level, ipix = ah.uniq_to_level_ipix(skymap['UNIQ'])\n",
    "pixel_area = ah.nside_to_pixel_area(ah.level_to_nside(level))\n"
   ]
  },
  {
   "cell_type": "code",
   "execution_count": 13,
   "metadata": {},
   "outputs": [],
   "source": [
    "prob = pixel_area * skymap['PROBDENSITY']\n"
   ]
  },
  {
   "cell_type": "code",
   "execution_count": 14,
   "metadata": {},
   "outputs": [],
   "source": [
    "cumprob = np.cumsum(prob)\n"
   ]
  },
  {
   "cell_type": "code",
   "execution_count": 15,
   "metadata": {},
   "outputs": [],
   "source": [
    "i = cumprob.searchsorted(0.9)\n"
   ]
  },
  {
   "cell_type": "code",
   "execution_count": 16,
   "metadata": {},
   "outputs": [
    {
     "data": {
      "text/plain": [
       "30.975181093574633"
      ]
     },
     "execution_count": 16,
     "metadata": {},
     "output_type": "execute_result"
    }
   ],
   "source": [
    "area_90 = pixel_area[:i].sum()\n",
    "area_90.to_value(u.deg**2)\n",
    "# 30.975181093574633"
   ]
  },
  {
   "attachments": {},
   "cell_type": "markdown",
   "metadata": {},
   "source": [
    "# Read bayestar.fits"
   ]
  },
  {
   "cell_type": "code",
   "execution_count": 17,
   "metadata": {},
   "outputs": [],
   "source": [
    "import healpy as hp"
   ]
  },
  {
   "cell_type": "code",
   "execution_count": 18,
   "metadata": {},
   "outputs": [],
   "source": [
    "from ligo.skymap.io.fits import read_sky_map\n",
    "from ligo.skymap.postprocess import crossmatch"
   ]
  },
  {
   "cell_type": "code",
   "execution_count": 19,
   "metadata": {},
   "outputs": [],
   "source": [
    "path_healpix = '../data/bayestar.multiorder.fits'\n",
    "#\tmoc=True --> multiorder healpix\n",
    "skymap = read_sky_map(path_healpix, moc=True)"
   ]
  },
  {
   "cell_type": "code",
   "execution_count": 20,
   "metadata": {},
   "outputs": [],
   "source": [
    "from astropy.table import Table\n",
    "from astropy.coordinates import SkyCoord\n"
   ]
  },
  {
   "cell_type": "code",
   "execution_count": 21,
   "metadata": {},
   "outputs": [],
   "source": [
    "try:\n",
    "    print(len(cat))\n",
    "except:\n",
    "\tcat = Table.read('../data/GLADE+.fits')"
   ]
  },
  {
   "cell_type": "code",
   "execution_count": 22,
   "metadata": {},
   "outputs": [],
   "source": [
    "cat.rename_column('col9', '_RAJ2000')\n",
    "cat.rename_column('col10', '_DEJ2000')\n",
    "cat.rename_column('col33', 'Dist')\n"
   ]
  },
  {
   "cell_type": "code",
   "execution_count": 23,
   "metadata": {},
   "outputs": [],
   "source": [
    "coordinates = SkyCoord(cat['_RAJ2000']*u.deg, cat['_DEJ2000']*u.deg, cat['Dist']*u.Mpc)"
   ]
  },
  {
   "cell_type": "code",
   "execution_count": 24,
   "metadata": {},
   "outputs": [],
   "source": [
    "result = crossmatch(skymap, coordinates)"
   ]
  },
  {
   "cell_type": "code",
   "execution_count": 25,
   "metadata": {},
   "outputs": [
    {
     "data": {
      "text/html": [
       "<div><i>Table length=58</i>\n",
       "<table id=\"table5606819920\" class=\"table-striped table-bordered table-condensed\">\n",
       "<thead><tr><th>col1</th><th>col2</th><th>col3</th><th>col4</th><th>col5</th><th>col6</th><th>col7</th><th>col8</th><th>_RAJ2000</th><th>_DEJ2000</th><th>col11</th><th>col12</th><th>col13</th><th>col14</th><th>col15</th><th>col16</th><th>col17</th><th>col18</th><th>col19</th><th>col20</th><th>col21</th><th>col22</th><th>col23</th><th>col24</th><th>col25</th><th>col26</th><th>col27</th><th>col28</th><th>col29</th><th>col30</th><th>col31</th><th>col32</th><th>Dist</th><th>col34</th><th>col35</th><th>col36</th><th>col37</th><th>col38</th><th>col39</th><th>col40</th></tr></thead>\n",
       "<thead><tr><th>int32</th><th>int32</th><th>bytes28</th><th>bytes29</th><th>bytes16</th><th>bytes19</th><th>bytes18</th><th>bytes1</th><th>float64</th><th>float64</th><th>float64</th><th>float64</th><th>int16</th><th>float64</th><th>float64</th><th>float64</th><th>float64</th><th>float64</th><th>float64</th><th>float64</th><th>float64</th><th>float32</th><th>float64</th><th>float32</th><th>int16</th><th>float64</th><th>float32</th><th>float64</th><th>float64</th><th>int16</th><th>float64</th><th>float64</th><th>float64</th><th>float64</th><th>int16</th><th>float32</th><th>float32</th><th>int16</th><th>float32</th><th>float32</th></tr></thead>\n",
       "<tr><td>1151111</td><td>44313</td><td>NGC4830</td><td>NGC4830</td><td>12572790-1941286</td><td>J125727.91-194128.4</td><td>--</td><td>G</td><td>194.366257</td><td>-19.691298</td><td>12.961</td><td>--</td><td>0</td><td>-20.5102</td><td>9.911</td><td>0.016</td><td>9.184</td><td>0.018</td><td>8.942</td><td>0.026</td><td>9.868</td><td>--</td><td>9.909</td><td>--</td><td>0</td><td>--</td><td>--</td><td>0.0112</td><td>0.0110688303775976</td><td>1</td><td>0.0003688615364088</td><td>0.0003248</td><td>49.459035</td><td>1.662404</td><td>3</td><td>3.4</td><td>0.4</td><td>0</td><td>4.9</td><td>0.9</td></tr>\n",
       "<tr><td>1151235</td><td>45466</td><td>NGC4970</td><td>NGC4970</td><td>13073375-2400309</td><td>J130733.72-240030.6</td><td>--</td><td>G</td><td>196.89064</td><td>-24.008606</td><td>12.802</td><td>--</td><td>0</td><td>-20.5923</td><td>10.129</td><td>0.012</td><td>9.455</td><td>0.017</td><td>9.17</td><td>0.02</td><td>9.778</td><td>--</td><td>9.829</td><td>--</td><td>0</td><td>--</td><td>--</td><td>0.01086</td><td>0.0106864422989425</td><td>1</td><td>0.0004215690983688</td><td>0.00031494</td><td>47.736632</td><td>1.898942</td><td>3</td><td>3.5</td><td>0.4</td><td>0</td><td>4.9</td><td>0.9</td></tr>\n",
       "<tr><td>1151336</td><td>45657</td><td>NGC4993</td><td>NGC4993</td><td>13094770-2323017</td><td>J130947.70-232302.2</td><td>--</td><td>G</td><td>197.448776</td><td>-23.383831</td><td>13.16</td><td>--</td><td>0</td><td>-19.9044</td><td>10.292</td><td>0.015</td><td>9.599</td><td>0.022</td><td>9.33</td><td>0.026</td><td>9.943</td><td>--</td><td>9.987</td><td>--</td><td>0</td><td>--</td><td>--</td><td>0.00968</td><td>0.0091909380476333</td><td>1</td><td>0.0003670109076353</td><td>0.00028072</td><td>41.00982</td><td>1.649432</td><td>3</td><td>2.2</td><td>0.3</td><td>0</td><td>4.7</td><td>0.9</td></tr>\n",
       "<tr><td>1151752</td><td>45408</td><td>IC4180</td><td>IC4180</td><td>13065651-2355014</td><td>J130656.52-235501.2</td><td>--</td><td>G</td><td>196.735474</td><td>-23.91707</td><td>13.252</td><td>--</td><td>0</td><td>-19.8445</td><td>10.67</td><td>0.016</td><td>9.976</td><td>0.023</td><td>9.694</td><td>0.027</td><td>10.193</td><td>--</td><td>10.16</td><td>--</td><td>0</td><td>--</td><td>--</td><td>0.00985</td><td>0.0093266175439474</td><td>1</td><td>0.0003748390540044</td><td>0.00028565</td><td>41.619489</td><td>1.684965</td><td>3</td><td>1.1</td><td>0.5</td><td>1</td><td>4.3</td><td>0.9</td></tr>\n",
       "<tr><td>1151925</td><td>45426</td><td>NGC4968</td><td>NGC4968</td><td>13070597-2340373</td><td>J130705.93-234036.2</td><td>--</td><td>G</td><td>196.774902</td><td>-23.67704</td><td>13.435</td><td>--</td><td>0</td><td>-19.6616</td><td>10.862</td><td>0.019</td><td>10.039</td><td>0.021</td><td>9.798</td><td>0.024</td><td>9.993</td><td>--</td><td>9.102</td><td>--</td><td>0</td><td>--</td><td>--</td><td>0.00983</td><td>0.0093271139991327</td><td>1</td><td>0.0003668177724407</td><td>0.00028507</td><td>41.62172</td><td>1.648899</td><td>3</td><td>1.3</td><td>0.6</td><td>1</td><td>4.4</td><td>0.9</td></tr>\n",
       "<tr><td>1156123</td><td>46199</td><td>ESO508-033</td><td>ESO508-033</td><td>13162322-2633415</td><td>J131623.28-263341</td><td>--</td><td>G</td><td>199.096786</td><td>-26.561554</td><td>14.424</td><td>--</td><td>0</td><td>-18.9347</td><td>11.881</td><td>0.025</td><td>11.195</td><td>0.04</td><td>10.877</td><td>0.048</td><td>10.898</td><td>--</td><td>10.688</td><td>--</td><td>0</td><td>--</td><td>--</td><td>0.01089</td><td>0.010514251662497</td><td>1</td><td>0.000351238867207</td><td>0.00031581</td><td>46.961349</td><td>1.581653</td><td>3</td><td>0.7</td><td>0.3</td><td>--</td><td>4.1</td><td>0.9</td></tr>\n",
       "<tr><td>1159426</td><td>45241</td><td>ESO575-053</td><td>ESO575-053</td><td>13050493-2223022</td><td>J130504.91-222302.1</td><td>--</td><td>G</td><td>196.270554</td><td>-22.383947</td><td>14.136</td><td>--</td><td>0</td><td>-18.5881</td><td>12.205</td><td>0.027</td><td>11.449</td><td>0.04</td><td>11.255</td><td>0.062</td><td>11.979</td><td>--</td><td>11.925</td><td>--</td><td>0</td><td>--</td><td>--</td><td>0.00848</td><td>0.0078656267437873</td><td>1</td><td>0.000317500683812</td><td>0.00024592</td><td>35.06111</td><td>1.424037</td><td>3</td><td>0.15</td><td>0.07</td><td>1</td><td>3.3</td><td>0.8</td></tr>\n",
       "<tr><td>1159936</td><td>45475</td><td>ESO508-010</td><td>ESO508-010</td><td>13073773-2334441</td><td>J130737.71-233444.3</td><td>--</td><td>G</td><td>196.907242</td><td>-23.57892</td><td>14.216</td><td>--</td><td>0</td><td>-19.1012</td><td>12.272</td><td>0.043</td><td>11.503</td><td>0.052</td><td>11.303</td><td>0.088</td><td>11.884</td><td>--</td><td>11.815</td><td>--</td><td>0</td><td>--</td><td>--</td><td>0.01057</td><td>0.0103169593512125</td><td>1</td><td>0.0003563561159478</td><td>0.00030653</td><td>46.073292</td><td>1.60423</td><td>3</td><td>0.3</td><td>0.1</td><td>1</td><td>3.7</td><td>0.8</td></tr>\n",
       "<tr><td>1164528</td><td>--</td><td>--</td><td>--</td><td>13104593-2351566</td><td>J131045.95-235156.6</td><td>--</td><td>G</td><td>197.691406</td><td>-23.865728</td><td>14.873958</td><td>0.05871</td><td>1</td><td>-18.1446</td><td>12.568</td><td>0.05</td><td>11.932</td><td>0.077</td><td>11.622</td><td>0.097</td><td>12.609</td><td>0.024</td><td>12.606</td><td>0.026</td><td>0</td><td>14.461</td><td>0.06</td><td>0.00956</td><td>0.0089999967423863</td><td>1</td><td>0.0003348323826678</td><td>0.00015</td><td>40.152044</td><td>1.504348</td><td>3</td><td>0.11</td><td>0.05</td><td>1</td><td>3.2</td><td>0.8</td></tr>\n",
       "<tr><td>1169640</td><td>183552</td><td>PGC183552</td><td>PGC183552</td><td>13073768-2356181</td><td>J130737.61-235618.8</td><td>--</td><td>G</td><td>196.907013</td><td>-23.938364</td><td>15.367</td><td>--</td><td>0</td><td>-18.1355</td><td>13.281</td><td>0.069</td><td>12.793</td><td>0.097</td><td>12.505</td><td>0.145</td><td>13.659</td><td>0.042</td><td>13.743</td><td>0.054</td><td>0</td><td>--</td><td>0.06</td><td>0.01125</td><td>0.0112281823516461</td><td>1</td><td>0.0003492257913873</td><td>0.00032625</td><td>50.177098</td><td>1.574259</td><td>3</td><td>0.11</td><td>0.01</td><td>0</td><td>3.2</td><td>0.8</td></tr>\n",
       "<tr><td>...</td><td>...</td><td>...</td><td>...</td><td>...</td><td>...</td><td>...</td><td>...</td><td>...</td><td>...</td><td>...</td><td>...</td><td>...</td><td>...</td><td>...</td><td>...</td><td>...</td><td>...</td><td>...</td><td>...</td><td>...</td><td>...</td><td>...</td><td>...</td><td>...</td><td>...</td><td>...</td><td>...</td><td>...</td><td>...</td><td>...</td><td>...</td><td>...</td><td>...</td><td>...</td><td>...</td><td>...</td><td>...</td><td>...</td><td>...</td></tr>\n",
       "<tr><td>13105857</td><td>--</td><td>--</td><td>--</td><td>--</td><td>J125526.74-194706.1</td><td>--</td><td>G</td><td>193.86143090000002</td><td>-19.7850398</td><td>16.568958</td><td>--</td><td>1</td><td>-16.3466</td><td>--</td><td>--</td><td>--</td><td>--</td><td>--</td><td>--</td><td>14.636</td><td>0.032</td><td>14.52</td><td>0.05</td><td>0</td><td>16.156</td><td>0.06</td><td>0.008988000500000001</td><td>0.008585657638213416</td><td>1</td><td>0.0003005718669735481</td><td>0.0332966</td><td>38.291529</td><td>1.349548</td><td>1</td><td>--</td><td>0.1</td><td>1</td><td>2.2</td><td>4.0</td></tr>\n",
       "<tr><td>13106319</td><td>--</td><td>--</td><td>--</td><td>--</td><td>J125702.69-193107</td><td>--</td><td>G</td><td>194.2612459</td><td>-19.518614399999997</td><td>15.52614</td><td>--</td><td>1</td><td>-17.247</td><td>--</td><td>--</td><td>--</td><td>--</td><td>--</td><td>--</td><td>13.831</td><td>--</td><td>13.724</td><td>--</td><td>0</td><td>15.126</td><td>--</td><td>0.0085049998</td><td>0.008044273142366325</td><td>1</td><td>0.0002755050201807933</td><td>0.033280699999999996</td><td>35.862282</td><td>1.235973</td><td>1</td><td>--</td><td>0.2</td><td>--</td><td>2.5</td><td>4.3</td></tr>\n",
       "<tr><td>13136317</td><td>--</td><td>--</td><td>--</td><td>--</td><td>J125417.72-140844.2</td><td>--</td><td>G</td><td>193.5738533</td><td>-14.145626000000002</td><td>16.398591</td><td>--</td><td>1</td><td>-15.9002</td><td>--</td><td>--</td><td>--</td><td>--</td><td>--</td><td>--</td><td>14.793</td><td>0.033</td><td>14.687999999999999</td><td>0.063</td><td>0</td><td>16.035999</td><td>0.06</td><td>0.0063419999</td><td>0.006473352236699022</td><td>1</td><td>0.0002864641248874212</td><td>0.033209300000000004</td><td>28.824576</td><td>1.282115</td><td>1</td><td>0.01</td><td>0.08</td><td>1</td><td>1.9</td><td>5.3</td></tr>\n",
       "<tr><td>13142330</td><td>--</td><td>--</td><td>--</td><td>--</td><td>J125403.97-155006.6</td><td>--</td><td>G</td><td>193.5165439</td><td>-15.8351772</td><td>18.632846</td><td>--</td><td>1</td><td>-13.0052</td><td>--</td><td>--</td><td>--</td><td>--</td><td>--</td><td>--</td><td>16.551001</td><td>--</td><td>16.358999</td><td>--</td><td>0</td><td>18.222</td><td>--</td><td>0.0051429998</td><td>0.004781117845358418</td><td>1</td><td>0.00033656626305080217</td><td>0.033169699999999996</td><td>21.262014999999998</td><td>1.502567</td><td>1</td><td>--</td><td>0.01</td><td>1</td><td>--</td><td>--</td></tr>\n",
       "<tr><td>13217203</td><td>--</td><td>--</td><td>--</td><td>--</td><td>J130159.13-224719.4</td><td>--</td><td>G</td><td>195.4963759</td><td>-22.788724600000002</td><td>19.016917000000003</td><td>--</td><td>1</td><td>-14.2443</td><td>--</td><td>--</td><td>--</td><td>--</td><td>--</td><td>--</td><td>16.951</td><td>--</td><td>16.636999</td><td>--</td><td>0</td><td>18.639999</td><td>--</td><td>0.010367</td><td>0.010056210095066546</td><td>1</td><td>0.0003116644984822709</td><td>0.0333421</td><td>44.900001</td><td>1.402447</td><td>1</td><td>--</td><td>0.02</td><td>1</td><td>1.3</td><td>3.4</td></tr>\n",
       "<tr><td>13280171</td><td>--</td><td>--</td><td>--</td><td>--</td><td>J130707.79-240637.3</td><td>--</td><td>G</td><td>196.7824936</td><td>-24.110366600000003</td><td>16.159505</td><td>--</td><td>1</td><td>-16.0459</td><td>--</td><td>--</td><td>--</td><td>--</td><td>--</td><td>--</td><td>14.675999999999998</td><td>0.033</td><td>14.386</td><td>0.054</td><td>0</td><td>15.747</td><td>0.06</td><td>0.0065810001000000005</td><td>0.006202174016978553</td><td>1</td><td>0.0002575852763601188</td><td>0.033217199999999995</td><td>27.611386</td><td>1.152367</td><td>1</td><td>0.01</td><td>0.09</td><td>--</td><td>1.9</td><td>5.5</td></tr>\n",
       "<tr><td>13280775</td><td>--</td><td>--</td><td>--</td><td>--</td><td>J130916.92-242306</td><td>--</td><td>G</td><td>197.3205146</td><td>-24.3850103</td><td>16.593804000000002</td><td>--</td><td>1</td><td>-16.3801</td><td>--</td><td>--</td><td>--</td><td>--</td><td>--</td><td>--</td><td>15.056</td><td>0.035</td><td>14.317</td><td>0.048</td><td>0</td><td>16.313999</td><td>0.06</td><td>0.0094550001</td><td>0.008817951124120217</td><td>1</td><td>0.0003253597851829614</td><td>0.033312</td><td>39.334459</td><td>1.46138</td><td>1</td><td>0.01</td><td>0.09</td><td>--</td><td>2.0</td><td>3.9</td></tr>\n",
       "<tr><td>13320960</td><td>--</td><td>--</td><td>--</td><td>--</td><td>J130607.29-220929.7</td><td>--</td><td>G</td><td>196.5303837</td><td>-22.1582565</td><td>18.017743</td><td>--</td><td>1</td><td>-15.7743</td><td>--</td><td>--</td><td>--</td><td>--</td><td>--</td><td>--</td><td>16.327999</td><td>0.074</td><td>16.107</td><td>0.183</td><td>0</td><td>17.674</td><td>0.06</td><td>0.01261</td><td>0.01281451123653224</td><td>1</td><td>0.0002946899829880917</td><td>0.0334161</td><td>57.334618000000006</td><td>1.3315</td><td>1</td><td>0.01</td><td>0.04</td><td>1</td><td>1.8</td><td>2.7</td></tr>\n",
       "<tr><td>13384365</td><td>--</td><td>--</td><td>--</td><td>--</td><td>J131332.76-235141.7</td><td>--</td><td>G</td><td>198.38650790000003</td><td>-23.8615885</td><td>18.777576</td><td>--</td><td>1</td><td>-14.7316</td><td>--</td><td>--</td><td>--</td><td>--</td><td>--</td><td>--</td><td>16.983</td><td>0.103</td><td>16.413</td><td>0.217</td><td>0</td><td>18.437</td><td>0.061</td><td>0.011295</td><td>0.011262081476700356</td><td>1</td><td>0.00027407181693852364</td><td>0.0333727</td><td>50.329875</td><td>1.2354690000000002</td><td>1</td><td>--</td><td>0.02</td><td>1</td><td>1.4</td><td>3.1</td></tr>\n",
       "<tr><td>13457461</td><td>--</td><td>--</td><td>--</td><td>--</td><td>J131643.84-265001.9</td><td>--</td><td>G</td><td>199.18270800000002</td><td>-26.833878100000003</td><td>17.977171</td><td>--</td><td>1</td><td>-15.4144</td><td>--</td><td>--</td><td>--</td><td>--</td><td>--</td><td>--</td><td>16.278</td><td>0.062</td><td>16.052</td><td>0.161</td><td>0</td><td>17.628</td><td>0.06</td><td>0.011027</td><td>0.010673146096267388</td><td>1</td><td>0.00032293665565896133</td><td>0.0333639</td><td>47.676759999999994</td><td>1.45452</td><td>1</td><td>0.01</td><td>0.03</td><td>1</td><td>1.7</td><td>3.3</td></tr>\n",
       "</table></div>"
      ],
      "text/plain": [
       "<Table length=58>\n",
       "  col1    col2     col3       col4    ...  col37  col38  col39   col40 \n",
       " int32   int32   bytes28    bytes29   ... float32 int16 float32 float32\n",
       "-------- ------ ---------- ---------- ... ------- ----- ------- -------\n",
       " 1151111  44313    NGC4830    NGC4830 ...     0.4     0     4.9     0.9\n",
       " 1151235  45466    NGC4970    NGC4970 ...     0.4     0     4.9     0.9\n",
       " 1151336  45657    NGC4993    NGC4993 ...     0.3     0     4.7     0.9\n",
       " 1151752  45408     IC4180     IC4180 ...     0.5     1     4.3     0.9\n",
       " 1151925  45426    NGC4968    NGC4968 ...     0.6     1     4.4     0.9\n",
       " 1156123  46199 ESO508-033 ESO508-033 ...     0.3    --     4.1     0.9\n",
       " 1159426  45241 ESO575-053 ESO575-053 ...    0.07     1     3.3     0.8\n",
       " 1159936  45475 ESO508-010 ESO508-010 ...     0.1     1     3.7     0.8\n",
       " 1164528     --         --         -- ...    0.05     1     3.2     0.8\n",
       " 1169640 183552  PGC183552  PGC183552 ...    0.01     0     3.2     0.8\n",
       "     ...    ...        ...        ... ...     ...   ...     ...     ...\n",
       "13105857     --         --         -- ...     0.1     1     2.2     4.0\n",
       "13106319     --         --         -- ...     0.2    --     2.5     4.3\n",
       "13136317     --         --         -- ...    0.08     1     1.9     5.3\n",
       "13142330     --         --         -- ...    0.01     1      --      --\n",
       "13217203     --         --         -- ...    0.02     1     1.3     3.4\n",
       "13280171     --         --         -- ...    0.09    --     1.9     5.5\n",
       "13280775     --         --         -- ...    0.09    --     2.0     3.9\n",
       "13320960     --         --         -- ...    0.04     1     1.8     2.7\n",
       "13384365     --         --         -- ...    0.02     1     1.4     3.1\n",
       "13457461     --         --         -- ...    0.03     1     1.7     3.3"
      ]
     },
     "execution_count": 25,
     "metadata": {},
     "output_type": "execute_result"
    }
   ],
   "source": [
    "cat[result.searched_prob_vol < 0.9]"
   ]
  },
  {
   "cell_type": "code",
   "execution_count": 54,
   "metadata": {},
   "outputs": [
    {
     "data": {
      "text/plain": [
       "(<matplotlib.image.AxesImage at 0x2bd50d610>, <Mollview: >)"
      ]
     },
     "execution_count": 54,
     "metadata": {},
     "output_type": "execute_result"
    },
    {
     "data": {
      "image/png": "[encoded data removed]",
      "text/plain": [
       "<Figure size 600x600 with 2 Axes>"
      ]
     },
     "metadata": {},
     "output_type": "display_data"
    }
   ],
   "source": [
    "from mhealpy import HealpixMap\n",
    "m = HealpixMap.read_map('../data/bayestar.multiorder.fits')\n",
    "\n",
    "m.plot()"
   ]
  }
 ],
 "metadata": {
  "kernelspec": {
   "display_name": "gecko",
   "language": "python",
   "name": "python3"
  },
  "language_info": {
   "codemirror_mode": {
    "name": "ipython",
    "version": 3
   },
   "file_extension": ".py",
   "mimetype": "text/x-python",
   "name": "python",
   "nbconvert_exporter": "python",
   "pygments_lexer": "ipython3",
   "version": "3.11.0"
  },
  "orig_nbformat": 4
 },
 "nbformat": 4,
 "nbformat_minor": 2
}
