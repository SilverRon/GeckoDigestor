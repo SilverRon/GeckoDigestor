{
 "cells": [
  {
   "cell_type": "code",
   "execution_count": 44,
   "metadata": {},
   "outputs": [],
   "source": [
    "# import json\n",
    "import os\n",
    "import glob\n",
    "import pprint\n",
    "from astropy.table import Table\n",
    "import sys\n",
    "sys.path.append('..')\n",
    "from config.config import *\n",
    "from src.AlertReceiver import *"
   ]
  },
  {
   "attachments": {},
   "cell_type": "markdown",
   "metadata": {},
   "source": [
    "- read log file"
   ]
  },
  {
   "cell_type": "code",
   "execution_count": 45,
   "metadata": {},
   "outputs": [],
   "source": [
    "logtbl = Table.read(f\"{path_out}/event.log\", format='ascii.fixed_width')"
   ]
  },
  {
   "attachments": {},
   "cell_type": "markdown",
   "metadata": {},
   "source": [
    "- check current event"
   ]
  },
  {
   "cell_type": "code",
   "execution_count": 46,
   "metadata": {},
   "outputs": [
    {
     "name": "stdout",
     "output_type": "stream",
     "text": [
      "65 events found in ../output\n"
     ]
    }
   ],
   "source": [
    "eventpath_list = sorted(glob.glob(f'{path_out}/*/'))\n",
    "eventlist = [\n",
    "    path.replace(f\"{path_out}/\", '').replace('/', '')\n",
    "    for path in eventpath_list\n",
    "    if 'RETRACTION' not in path\n",
    "    ]\n",
    "print(f\"{len(eventlist)} events found in {path_out}\")"
   ]
  },
  {
   "cell_type": "code",
   "execution_count": 47,
   "metadata": {},
   "outputs": [
    {
     "name": "stdout",
     "output_type": "stream",
     "text": [
      "[]\n"
     ]
    }
   ],
   "source": [
    "event_nolog_list = [\n",
    "\tevent\n",
    "\tfor event in eventlist\n",
    "\tif event not in logtbl['id']\n",
    "]\n",
    "print(event_nolog_list)"
   ]
  },
  {
   "cell_type": "code",
   "execution_count": 48,
   "metadata": {},
   "outputs": [],
   "source": [
    "if len(event_nolog_list):\n",
    "    for ee, event in enumerate(event_nolog_list):\n",
    "        path_record = f\"{path_out}/{event}/record.json\"\n",
    "        if os.path.exists(path_record):\n",
    "            with open(path_record, 'r') as f:\n",
    "                record = f.read()\n",
    "            record, skymap = AlertReceiver(record)\n",
    "\n",
    "            most_probable_event = max(record['event']['classification'], key=record['event']['classification'].get)\n",
    "            #   If Process is done, save in the log file\n",
    "            eventlogtbl.add_row(\n",
    "                [record['superevent_id'], record['alert_type'], most_probable_event, record['ramax'], record['decmax'], record['area_90'], record['distmean'], record['diststd'], f\"{record['superevent_id']}_{record['alert_type']}\"]\n",
    "            )\n",
    "\n",
    "            for key in eventlogtbl.keys():\n",
    "                if key in ['ramax', 'decmax', 'area_90', 'distmean', 'diststd']:\n",
    "                    eventlogtbl[key].format = \".3f\"\n",
    "            eventlogtbl.write(f\"{path_out}/event.log\", format='ascii.fixed_width', overwrite=True)"
   ]
  },
  {
   "cell_type": "code",
   "execution_count": 52,
   "metadata": {},
   "outputs": [
    {
     "name": "stdout",
     "output_type": "stream",
     "text": [
      "Elapsed time: [00:00:00:14]\r"
     ]
    },
    {
     "ename": "KeyboardInterrupt",
     "evalue": "",
     "output_type": "error",
     "traceback": [
      "\u001b[0;31m---------------------------------------------------------------------------\u001b[0m",
      "\u001b[0;31mKeyboardInterrupt\u001b[0m                         Traceback (most recent call last)",
      "Cell \u001b[0;32mIn[52], line 15\u001b[0m\n\u001b[1;32m     13\u001b[0m \u001b[39m# print elapsed time in dd:hh:mm:ss format\u001b[39;00m\n\u001b[1;32m     14\u001b[0m \u001b[39mprint\u001b[39m(\u001b[39mf\u001b[39m\u001b[39m\"\u001b[39m\u001b[39mElapsed time: [\u001b[39m\u001b[39m{\u001b[39;00melapsed_time\u001b[39m.\u001b[39mdays\u001b[39m:\u001b[39;00m\u001b[39m02d\u001b[39m\u001b[39m}\u001b[39;00m\u001b[39m:\u001b[39m\u001b[39m{\u001b[39;00melapsed_time\u001b[39m.\u001b[39mseconds\u001b[39m \u001b[39m\u001b[39m/\u001b[39m\u001b[39m/\u001b[39m\u001b[39m \u001b[39m\u001b[39m3600\u001b[39m\u001b[39m:\u001b[39;00m\u001b[39m02d\u001b[39m\u001b[39m}\u001b[39;00m\u001b[39m:\u001b[39m\u001b[39m{\u001b[39;00m(elapsed_time\u001b[39m.\u001b[39mseconds\u001b[39m \u001b[39m\u001b[39m/\u001b[39m\u001b[39m/\u001b[39m\u001b[39m \u001b[39m\u001b[39m60\u001b[39m)\u001b[39m \u001b[39m\u001b[39m%\u001b[39m\u001b[39m \u001b[39m\u001b[39m60\u001b[39m\u001b[39m:\u001b[39;00m\u001b[39m02d\u001b[39m\u001b[39m}\u001b[39;00m\u001b[39m:\u001b[39m\u001b[39m{\u001b[39;00melapsed_time\u001b[39m.\u001b[39mseconds\u001b[39m \u001b[39m\u001b[39m%\u001b[39m\u001b[39m \u001b[39m\u001b[39m60\u001b[39m\u001b[39m:\u001b[39;00m\u001b[39m02d\u001b[39m\u001b[39m}\u001b[39;00m\u001b[39m]\u001b[39m\u001b[39m\"\u001b[39m, end\u001b[39m=\u001b[39m\u001b[39m'\u001b[39m\u001b[39m\\r\u001b[39;00m\u001b[39m'\u001b[39m)\n\u001b[0;32m---> 15\u001b[0m time\u001b[39m.\u001b[39msleep(\u001b[39m1\u001b[39m)\n",
      "\u001b[0;31mKeyboardInterrupt\u001b[0m: "
     ]
    }
   ],
   "source": [
    "import datetime\n",
    "import time\n",
    "\n",
    "start_time = time.time()\n",
    "\n",
    "while True:\n",
    "\t# do something\n",
    "\n",
    "\t# calculate elapsed time\n",
    "\telapsed_time = time.time() - start_time\n",
    "\telapsed_time = datetime.timedelta(seconds=elapsed_time)\n",
    "\n",
    "\t# print elapsed time in dd:hh:mm:ss format\n",
    "\tprint(f\"Elapsed time: [{elapsed_time.days:02d}:{elapsed_time.seconds // 3600:02d}:{(elapsed_time.seconds // 60) % 60:02d}:{elapsed_time.seconds % 60:02d}]\", end='\\r')\n",
    "\ttime.sleep(1)\n"
   ]
  }
 ],
 "metadata": {
  "kernelspec": {
   "display_name": "gecko",
   "language": "python",
   "name": "python3"
  },
  "language_info": {
   "codemirror_mode": {
    "name": "ipython",
    "version": 3
   },
   "file_extension": ".py",
   "mimetype": "text/x-python",
   "name": "python",
   "nbconvert_exporter": "python",
   "pygments_lexer": "ipython3",
   "version": "3.11.0"
  },
  "orig_nbformat": 4
 },
 "nbformat": 4,
 "nbformat_minor": 2
}
