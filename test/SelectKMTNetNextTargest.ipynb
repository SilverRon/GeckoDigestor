{
 "cells": [
  {
   "cell_type": "code",
   "execution_count": 53,
   "metadata": {},
   "outputs": [],
   "source": [
    "from astropy.table import Table\n",
    "import glob\n",
    "import numpy as np\n",
    "import sys\n",
    "sys.path.append('..')\n",
    "from util.util import *"
   ]
  },
  {
   "cell_type": "code",
   "execution_count": 54,
   "metadata": {},
   "outputs": [],
   "source": [
    "path_gw = '../output/S230518h_INITIAL'"
   ]
  },
  {
   "cell_type": "code",
   "execution_count": 55,
   "metadata": {},
   "outputs": [],
   "source": [
    "length_to_cut = 28"
   ]
  },
  {
   "cell_type": "code",
   "execution_count": 56,
   "metadata": {},
   "outputs": [],
   "source": [
    "# satbl = Table.read(f'{path_gw}/scTOO_20230521_SAAO.cat', format='ascii')\n",
    "# cttbl = Table.read(f'{path_gw}/scTOO_20230521_CTIO.cat', format='ascii')\n",
    "satbl = Table.read(f'{path_gw}/scTOO_20230521_SAAO.30tiles.done.cat', format='ascii')\n",
    "cttbl = Table.read(f'{path_gw}/scTOO_20230521_CTIO.cat', format='ascii')"
   ]
  },
  {
   "cell_type": "code",
   "execution_count": 57,
   "metadata": {},
   "outputs": [
    {
     "name": "stdout",
     "output_type": "stream",
     "text": [
      "SAAO: 15\n",
      "CTIO: 76\n"
     ]
    }
   ],
   "source": [
    "print(f\"SAAO: {len(satbl)/2:g}\")\n",
    "print(f\"CTIO: {len(cttbl)/2:g}\")"
   ]
  },
  {
   "cell_type": "code",
   "execution_count": 58,
   "metadata": {},
   "outputs": [
    {
     "data": {
      "text/html": [
       "<div><i>Table length=30</i>\n",
       "<table id=\"table5525847824\" class=\"table-striped table-bordered table-condensed\">\n",
       "<thead><tr><th>col1</th><th>col2</th><th>col3</th><th>col4</th><th>col5</th><th>col6</th><th>col7</th><th>col8</th><th>col9</th><th>col10</th><th>col11</th><th>col12</th></tr></thead>\n",
       "<thead><tr><th>str3</th><th>str10</th><th>str10</th><th>str9</th><th>int64</th><th>str6</th><th>str8</th><th>str1</th><th>int64</th><th>str1</th><th>int64</th><th>str3</th></tr></thead>\n",
       "<tr><td>TOO</td><td>S230518h-0</td><td>07:46:28.7</td><td>-68:00:00</td><td>0</td><td>OBJECT</td><td>S230518h</td><td>R</td><td>120</td><td>-</td><td>0</td><td>#1</td></tr>\n",
       "<tr><td>TOO</td><td>S230518h-3</td><td>07:47:11.4</td><td>-67:53:00</td><td>0</td><td>OBJECT</td><td>S230518h</td><td>R</td><td>120</td><td>-</td><td>0</td><td>#2</td></tr>\n",
       "<tr><td>TOO</td><td>S230518h-0</td><td>07:07:21.3</td><td>-32:00:00</td><td>0</td><td>OBJECT</td><td>S230518h</td><td>R</td><td>120</td><td>-</td><td>0</td><td>#3</td></tr>\n",
       "<tr><td>TOO</td><td>S230518h-3</td><td>07:07:40.2</td><td>-31:53:00</td><td>0</td><td>OBJECT</td><td>S230518h</td><td>R</td><td>120</td><td>-</td><td>0</td><td>#4</td></tr>\n",
       "<tr><td>TOO</td><td>S230518h-0</td><td>07:12:00.0</td><td>-88:00:00</td><td>0</td><td>OBJECT</td><td>S230518h</td><td>R</td><td>120</td><td>-</td><td>0</td><td>#5</td></tr>\n",
       "<tr><td>TOO</td><td>S230518h-3</td><td>07:19:38.5</td><td>-87:53:00</td><td>0</td><td>OBJECT</td><td>S230518h</td><td>R</td><td>120</td><td>-</td><td>0</td><td>#6</td></tr>\n",
       "<tr><td>TOO</td><td>S230518h-0</td><td>07:10:00.0</td><td>-38:00:00</td><td>0</td><td>OBJECT</td><td>S230518h</td><td>R</td><td>120</td><td>-</td><td>0</td><td>#7</td></tr>\n",
       "<tr><td>TOO</td><td>S230518h-3</td><td>07:10:20.3</td><td>-37:53:00</td><td>0</td><td>OBJECT</td><td>S230518h</td><td>R</td><td>120</td><td>-</td><td>0</td><td>#8</td></tr>\n",
       "<tr><td>TOO</td><td>S230518h-0</td><td>07:08:06.5</td><td>-36:00:00</td><td>0</td><td>OBJECT</td><td>S230518h</td><td>R</td><td>120</td><td>-</td><td>0</td><td>#11</td></tr>\n",
       "<tr><td>TOO</td><td>S230518h-3</td><td>07:08:26.3</td><td>-35:53:00</td><td>0</td><td>OBJECT</td><td>S230518h</td><td>R</td><td>120</td><td>-</td><td>0</td><td>#12</td></tr>\n",
       "<tr><td>...</td><td>...</td><td>...</td><td>...</td><td>...</td><td>...</td><td>...</td><td>...</td><td>...</td><td>...</td><td>...</td><td>...</td></tr>\n",
       "<tr><td>TOO</td><td>S230518h-0</td><td>08:16:33.1</td><td>-82:00:00</td><td>0</td><td>OBJECT</td><td>S230518h</td><td>R</td><td>120</td><td>-</td><td>0</td><td>#25</td></tr>\n",
       "<tr><td>TOO</td><td>S230518h-3</td><td>08:18:28.1</td><td>-81:53:00</td><td>0</td><td>OBJECT</td><td>S230518h</td><td>R</td><td>120</td><td>-</td><td>0</td><td>#26</td></tr>\n",
       "<tr><td>TOO</td><td>S230518h-0</td><td>08:10:12.8</td><td>-76:00:00</td><td>0</td><td>OBJECT</td><td>S230518h</td><td>R</td><td>120</td><td>-</td><td>0</td><td>#27</td></tr>\n",
       "<tr><td>TOO</td><td>S230518h-3</td><td>08:11:18.9</td><td>-75:53:00</td><td>0</td><td>OBJECT</td><td>S230518h</td><td>R</td><td>120</td><td>-</td><td>0</td><td>#28</td></tr>\n",
       "<tr><td>TOO</td><td>S230518h-0</td><td>08:06:45.6</td><td>-68:00:00</td><td>0</td><td>OBJECT</td><td>S230518h</td><td>R</td><td>120</td><td>-</td><td>0</td><td>#33</td></tr>\n",
       "<tr><td>TOO</td><td>S230518h-3</td><td>08:07:28.3</td><td>-67:53:00</td><td>0</td><td>OBJECT</td><td>S230518h</td><td>R</td><td>120</td><td>-</td><td>0</td><td>#34</td></tr>\n",
       "<tr><td>TOO</td><td>S230518h-0</td><td>07:39:34.5</td><td>-76:00:00</td><td>0</td><td>OBJECT</td><td>S230518h</td><td>R</td><td>120</td><td>-</td><td>0</td><td>#37</td></tr>\n",
       "<tr><td>TOO</td><td>S230518h-3</td><td>07:40:40.6</td><td>-75:53:00</td><td>0</td><td>OBJECT</td><td>S230518h</td><td>R</td><td>120</td><td>-</td><td>0</td><td>#38</td></tr>\n",
       "<tr><td>TOO</td><td>S230518h-0</td><td>08:43:38.2</td><td>-84:00:00</td><td>0</td><td>OBJECT</td><td>S230518h</td><td>R</td><td>120</td><td>-</td><td>0</td><td>#45</td></tr>\n",
       "<tr><td>TOO</td><td>S230518h-3</td><td>08:46:11.2</td><td>-83:53:00</td><td>0</td><td>OBJECT</td><td>S230518h</td><td>R</td><td>120</td><td>-</td><td>0</td><td>#46</td></tr>\n",
       "</table></div>"
      ],
      "text/plain": [
       "<Table length=30>\n",
       "col1    col2       col3       col4    col5 ... col8  col9 col10 col11 col12\n",
       "str3   str10      str10       str9   int64 ... str1 int64  str1 int64  str3\n",
       "---- ---------- ---------- --------- ----- ... ---- ----- ----- ----- -----\n",
       " TOO S230518h-0 07:46:28.7 -68:00:00     0 ...    R   120     -     0    #1\n",
       " TOO S230518h-3 07:47:11.4 -67:53:00     0 ...    R   120     -     0    #2\n",
       " TOO S230518h-0 07:07:21.3 -32:00:00     0 ...    R   120     -     0    #3\n",
       " TOO S230518h-3 07:07:40.2 -31:53:00     0 ...    R   120     -     0    #4\n",
       " TOO S230518h-0 07:12:00.0 -88:00:00     0 ...    R   120     -     0    #5\n",
       " TOO S230518h-3 07:19:38.5 -87:53:00     0 ...    R   120     -     0    #6\n",
       " TOO S230518h-0 07:10:00.0 -38:00:00     0 ...    R   120     -     0    #7\n",
       " TOO S230518h-3 07:10:20.3 -37:53:00     0 ...    R   120     -     0    #8\n",
       " TOO S230518h-0 07:08:06.5 -36:00:00     0 ...    R   120     -     0   #11\n",
       " TOO S230518h-3 07:08:26.3 -35:53:00     0 ...    R   120     -     0   #12\n",
       " ...        ...        ...       ...   ... ...  ...   ...   ...   ...   ...\n",
       " TOO S230518h-0 08:16:33.1 -82:00:00     0 ...    R   120     -     0   #25\n",
       " TOO S230518h-3 08:18:28.1 -81:53:00     0 ...    R   120     -     0   #26\n",
       " TOO S230518h-0 08:10:12.8 -76:00:00     0 ...    R   120     -     0   #27\n",
       " TOO S230518h-3 08:11:18.9 -75:53:00     0 ...    R   120     -     0   #28\n",
       " TOO S230518h-0 08:06:45.6 -68:00:00     0 ...    R   120     -     0   #33\n",
       " TOO S230518h-3 08:07:28.3 -67:53:00     0 ...    R   120     -     0   #34\n",
       " TOO S230518h-0 07:39:34.5 -76:00:00     0 ...    R   120     -     0   #37\n",
       " TOO S230518h-3 07:40:40.6 -75:53:00     0 ...    R   120     -     0   #38\n",
       " TOO S230518h-0 08:43:38.2 -84:00:00     0 ...    R   120     -     0   #45\n",
       " TOO S230518h-3 08:46:11.2 -83:53:00     0 ...    R   120     -     0   #46"
      ]
     },
     "execution_count": 58,
     "metadata": {},
     "output_type": "execute_result"
    }
   ],
   "source": [
    "#\tPart\n",
    "psatbl = satbl[:length_to_cut*2]\n",
    "psatbl"
   ]
  },
  {
   "cell_type": "code",
   "execution_count": 59,
   "metadata": {},
   "outputs": [],
   "source": [
    "indx_ctio = []\n",
    "for ii, (ra, dec) in enumerate(zip(cttbl['col3'], cttbl['col4'])):\n",
    "    # if ((ra not in psatbl['col3']) & (dec not in psatbl['col4'])) & ((ra != '00:00:00.0') & (dec != '00:00:00')):\n",
    "    if ((ra != '00:00:00.0') & (dec != '00:00:00')):\n",
    "        indx = np.where((psatbl['col3']==ra) & (psatbl['col4']==dec))\n",
    "        if len(indx[0]) == 0:\n",
    "        \n",
    "\n",
    "            indx_ctio.append(ii)\n",
    "indx_ctio = np.array(indx_ctio)\n"
   ]
  },
  {
   "cell_type": "code",
   "execution_count": 60,
   "metadata": {},
   "outputs": [
    {
     "name": "stdout",
     "output_type": "stream",
     "text": [
      "n_tiles = 60\n"
     ]
    }
   ],
   "source": [
    "n_tiles = len(cttbl[indx_ctio])/2\n",
    "print(f\"n_tiles = {n_tiles:g}\")"
   ]
  },
  {
   "cell_type": "code",
   "execution_count": 61,
   "metadata": {},
   "outputs": [
    {
     "data": {
      "text/html": [
       "<div><i>Table length=120</i>\n",
       "<table id=\"table5516613328\" class=\"table-striped table-bordered table-condensed\">\n",
       "<thead><tr><th>col1</th><th>col2</th><th>col3</th><th>col4</th><th>col5</th><th>col6</th><th>col7</th><th>col8</th><th>col9</th><th>col10</th><th>col11</th><th>col12</th></tr></thead>\n",
       "<thead><tr><th>str3</th><th>str10</th><th>str10</th><th>str9</th><th>int64</th><th>str6</th><th>str8</th><th>str1</th><th>int64</th><th>str1</th><th>int64</th><th>str4</th></tr></thead>\n",
       "<tr><td>TOO</td><td>S230518h-0</td><td>07:30:00.0</td><td>-86:00:00</td><td>0</td><td>OBJECT</td><td>S230518h</td><td>R</td><td>120</td><td>-</td><td>0</td><td>#5</td></tr>\n",
       "<tr><td>TOO</td><td>S230518h-3</td><td>07:33:49.4</td><td>-85:53:00</td><td>0</td><td>OBJECT</td><td>S230518h</td><td>R</td><td>120</td><td>-</td><td>0</td><td>#6</td></tr>\n",
       "<tr><td>TOO</td><td>S230518h-0</td><td>09:36:00.0</td><td>-88:00:00</td><td>0</td><td>OBJECT</td><td>S230518h</td><td>R</td><td>120</td><td>-</td><td>0</td><td>#9</td></tr>\n",
       "<tr><td>TOO</td><td>S230518h-3</td><td>09:43:38.5</td><td>-87:53:00</td><td>0</td><td>OBJECT</td><td>S230518h</td><td>R</td><td>120</td><td>-</td><td>0</td><td>#10</td></tr>\n",
       "<tr><td>TOO</td><td>S230518h-0</td><td>07:09:08.3</td><td>-34:00:00</td><td>0</td><td>OBJECT</td><td>S230518h</td><td>R</td><td>120</td><td>-</td><td>0</td><td>#15</td></tr>\n",
       "<tr><td>TOO</td><td>S230518h-3</td><td>07:09:27.6</td><td>-33:53:00</td><td>0</td><td>OBJECT</td><td>S230518h</td><td>R</td><td>120</td><td>-</td><td>0</td><td>#16</td></tr>\n",
       "<tr><td>TOO</td><td>S230518h-0</td><td>09:00:00.0</td><td>-86:00:00</td><td>0</td><td>OBJECT</td><td>S230518h</td><td>R</td><td>120</td><td>-</td><td>0</td><td>#27</td></tr>\n",
       "<tr><td>TOO</td><td>S230518h-3</td><td>09:03:49.4</td><td>-85:53:00</td><td>0</td><td>OBJECT</td><td>S230518h</td><td>R</td><td>120</td><td>-</td><td>0</td><td>#28</td></tr>\n",
       "<tr><td>TOO</td><td>S230518h-0</td><td>12:00:00.0</td><td>-88:00:00</td><td>0</td><td>OBJECT</td><td>S230518h</td><td>R</td><td>120</td><td>-</td><td>0</td><td>#31</td></tr>\n",
       "<tr><td>TOO</td><td>S230518h-3</td><td>12:07:38.5</td><td>-87:53:00</td><td>0</td><td>OBJECT</td><td>S230518h</td><td>R</td><td>120</td><td>-</td><td>0</td><td>#32</td></tr>\n",
       "<tr><td>...</td><td>...</td><td>...</td><td>...</td><td>...</td><td>...</td><td>...</td><td>...</td><td>...</td><td>...</td><td>...</td><td>...</td></tr>\n",
       "<tr><td>TOO</td><td>S230518h-0</td><td>08:54:51.4</td><td>-80:00:00</td><td>0</td><td>OBJECT</td><td>S230518h</td><td>R</td><td>120</td><td>-</td><td>0</td><td>#143</td></tr>\n",
       "<tr><td>TOO</td><td>S230518h-3</td><td>08:56:23.6</td><td>-79:53:00</td><td>0</td><td>OBJECT</td><td>S230518h</td><td>R</td><td>120</td><td>-</td><td>0</td><td>#144</td></tr>\n",
       "<tr><td>TOO</td><td>S230518h-0</td><td>08:46:49.8</td><td>-78:00:00</td><td>0</td><td>OBJECT</td><td>S230518h</td><td>R</td><td>120</td><td>-</td><td>0</td><td>#145</td></tr>\n",
       "<tr><td>TOO</td><td>S230518h-3</td><td>08:48:06.7</td><td>-77:53:00</td><td>0</td><td>OBJECT</td><td>S230518h</td><td>R</td><td>120</td><td>-</td><td>0</td><td>#146</td></tr>\n",
       "<tr><td>TOO</td><td>S230518h-0</td><td>08:40:51.1</td><td>-76:00:00</td><td>0</td><td>OBJECT</td><td>S230518h</td><td>R</td><td>120</td><td>-</td><td>0</td><td>#147</td></tr>\n",
       "<tr><td>TOO</td><td>S230518h-3</td><td>08:41:57.2</td><td>-75:53:00</td><td>0</td><td>OBJECT</td><td>S230518h</td><td>R</td><td>120</td><td>-</td><td>0</td><td>#148</td></tr>\n",
       "<tr><td>TOO</td><td>S230518h-0</td><td>08:36:13.6</td><td>-74:00:00</td><td>0</td><td>OBJECT</td><td>S230518h</td><td>R</td><td>120</td><td>-</td><td>0</td><td>#149</td></tr>\n",
       "<tr><td>TOO</td><td>S230518h-3</td><td>08:37:11.6</td><td>-73:53:00</td><td>0</td><td>OBJECT</td><td>S230518h</td><td>R</td><td>120</td><td>-</td><td>0</td><td>#150</td></tr>\n",
       "<tr><td>TOO</td><td>S230518h-0</td><td>08:32:32.5</td><td>-72:00:00</td><td>0</td><td>OBJECT</td><td>S230518h</td><td>R</td><td>120</td><td>-</td><td>0</td><td>#151</td></tr>\n",
       "<tr><td>TOO</td><td>S230518h-3</td><td>08:33:24.3</td><td>-71:53:00</td><td>0</td><td>OBJECT</td><td>S230518h</td><td>R</td><td>120</td><td>-</td><td>0</td><td>#152</td></tr>\n",
       "</table></div>"
      ],
      "text/plain": [
       "<Table length=120>\n",
       "col1    col2       col3       col4    col5 ... col8  col9 col10 col11 col12\n",
       "str3   str10      str10       str9   int64 ... str1 int64  str1 int64  str4\n",
       "---- ---------- ---------- --------- ----- ... ---- ----- ----- ----- -----\n",
       " TOO S230518h-0 07:30:00.0 -86:00:00     0 ...    R   120     -     0    #5\n",
       " TOO S230518h-3 07:33:49.4 -85:53:00     0 ...    R   120     -     0    #6\n",
       " TOO S230518h-0 09:36:00.0 -88:00:00     0 ...    R   120     -     0    #9\n",
       " TOO S230518h-3 09:43:38.5 -87:53:00     0 ...    R   120     -     0   #10\n",
       " TOO S230518h-0 07:09:08.3 -34:00:00     0 ...    R   120     -     0   #15\n",
       " TOO S230518h-3 07:09:27.6 -33:53:00     0 ...    R   120     -     0   #16\n",
       " TOO S230518h-0 09:00:00.0 -86:00:00     0 ...    R   120     -     0   #27\n",
       " TOO S230518h-3 09:03:49.4 -85:53:00     0 ...    R   120     -     0   #28\n",
       " TOO S230518h-0 12:00:00.0 -88:00:00     0 ...    R   120     -     0   #31\n",
       " TOO S230518h-3 12:07:38.5 -87:53:00     0 ...    R   120     -     0   #32\n",
       " ...        ...        ...       ...   ... ...  ...   ...   ...   ...   ...\n",
       " TOO S230518h-0 08:54:51.4 -80:00:00     0 ...    R   120     -     0  #143\n",
       " TOO S230518h-3 08:56:23.6 -79:53:00     0 ...    R   120     -     0  #144\n",
       " TOO S230518h-0 08:46:49.8 -78:00:00     0 ...    R   120     -     0  #145\n",
       " TOO S230518h-3 08:48:06.7 -77:53:00     0 ...    R   120     -     0  #146\n",
       " TOO S230518h-0 08:40:51.1 -76:00:00     0 ...    R   120     -     0  #147\n",
       " TOO S230518h-3 08:41:57.2 -75:53:00     0 ...    R   120     -     0  #148\n",
       " TOO S230518h-0 08:36:13.6 -74:00:00     0 ...    R   120     -     0  #149\n",
       " TOO S230518h-3 08:37:11.6 -73:53:00     0 ...    R   120     -     0  #150\n",
       " TOO S230518h-0 08:32:32.5 -72:00:00     0 ...    R   120     -     0  #151\n",
       " TOO S230518h-3 08:33:24.3 -71:53:00     0 ...    R   120     -     0  #152"
      ]
     },
     "execution_count": 61,
     "metadata": {},
     "output_type": "execute_result"
    }
   ],
   "source": [
    "# pcttbl = cttbl[indx_ctio][:length_to_cut*2]\n",
    "pcttbl = cttbl[indx_ctio]\n",
    "pcttbl"
   ]
  },
  {
   "cell_type": "code",
   "execution_count": 62,
   "metadata": {},
   "outputs": [],
   "source": [
    "pcttbl.write('../output/S230518h_INITIAL/scTOO_20230521_CTIO_30tiles.request2.cat', format='ascii', overwrite=True)"
   ]
  }
 ],
 "metadata": {
  "kernelspec": {
   "display_name": "gecko",
   "language": "python",
   "name": "python3"
  },
  "language_info": {
   "codemirror_mode": {
    "name": "ipython",
    "version": 3
   },
   "file_extension": ".py",
   "mimetype": "text/x-python",
   "name": "python",
   "nbconvert_exporter": "python",
   "pygments_lexer": "ipython3",
   "version": "3.11.0"
  },
  "orig_nbformat": 4
 },
 "nbformat": 4,
 "nbformat_minor": 2
}
