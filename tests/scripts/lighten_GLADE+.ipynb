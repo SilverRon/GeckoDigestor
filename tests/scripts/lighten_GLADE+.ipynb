{
 "cells": [
  {
   "cell_type": "code",
   "execution_count": 1,
   "metadata": {},
   "outputs": [],
   "source": [
    "import numpy as np\n",
    "from astropy.table import Table\n",
    "import time\n",
    "import os"
   ]
  },
  {
   "cell_type": "code",
   "execution_count": 2,
   "metadata": {},
   "outputs": [],
   "source": [
    "#\tplot setting\n",
    "import matplotlib.pyplot as plt\n",
    "import matplotlib as mpl\n",
    "from IPython.core.interactiveshell import InteractiveShell\n",
    "InteractiveShell.ast_node_interactivity = \"last_expr\"\n",
    "\n",
    "mpl.rcParams[\"axes.titlesize\"] = 14\n",
    "mpl.rcParams[\"axes.labelsize\"] = 20\n",
    "plt.rcParams['savefig.dpi'] = 500\n",
    "plt.rc('font', family='serif')"
   ]
  },
  {
   "cell_type": "code",
   "execution_count": 3,
   "metadata": {},
   "outputs": [],
   "source": [
    "def convert_size(size_bytes):\n",
    "    import math\n",
    "    if size_bytes == 0:\n",
    "        return \"0B\"\n",
    "    size_name = (\"B\", \"KB\", \"MB\", \"GB\", \"TB\", \"PB\", \"EB\", \"ZB\", \"YB\")\n",
    "    i = int(math.floor(math.log(size_bytes, 1024)))\n",
    "    p = math.pow(1024, i)\n",
    "    s = round(size_bytes / p, 2)\n",
    "    return \"%s %s\" % (s, size_name[i])"
   ]
  },
  {
   "cell_type": "code",
   "execution_count": 5,
   "metadata": {},
   "outputs": [
    {
     "name": "stdout",
     "output_type": "stream",
     "text": [
      "Initial Size of light_GLADE+.fits: 3.52 GB\n"
     ]
    }
   ],
   "source": [
    "# path_cat = '../data/GLADE+.fits'\n",
    "path_cat = '/data3/jehwang/wisematch/light_GLADE+.fits'\n",
    "initial_size = os.path.getsize(path_cat)\n",
    "print(f\"Initial Size of {os.path.basename(path_cat)}: {convert_size(initial_size)}\")"
   ]
  },
  {
   "cell_type": "code",
   "execution_count": 6,
   "metadata": {},
   "outputs": [
    {
     "name": "stdout",
     "output_type": "stream",
     "text": [
      "Time to read GLADE+.fits: 13.707 seconds\n"
     ]
    }
   ],
   "source": [
    "st = time.time()\n",
    "cat = Table.read(path_cat, format='fits')\n",
    "delt = time.time() - st\n",
    "print(f\"Time to read GLADE+.fits: {delt:.3f} seconds\")"
   ]
  },
  {
   "cell_type": "code",
   "execution_count": 7,
   "metadata": {},
   "outputs": [
    {
     "name": "stdout",
     "output_type": "stream",
     "text": [
      "Total number of objects: 23181758\n"
     ]
    }
   ],
   "source": [
    "n_total = len(cat)\n",
    "print(f\"Total number of objects: {n_total}\")"
   ]
  },
  {
   "cell_type": "code",
   "execution_count": 10,
   "metadata": {},
   "outputs": [
    {
     "name": "stdout",
     "output_type": "stream",
     "text": [
      "Number of objects with distance < 1000.0 Mpc: 11224913/23181758 (48.4%)\n"
     ]
    }
   ],
   "source": [
    "distance_cut = 1000.\n",
    "\n",
    "# indx_distance_cut = np.where(cat['col33'] < distance_cut)\n",
    "indx_distance_cut = np.where(cat['d_L'] < distance_cut)\n",
    "\n",
    "_cat = cat[indx_distance_cut]\n",
    "print(f\"Number of objects with distance < {distance_cut:.1f} Mpc: {len(_cat)}/{n_total} ({1e2*len(_cat)/n_total:1.1f}%)\")"
   ]
  },
  {
   "cell_type": "code",
   "execution_count": 11,
   "metadata": {},
   "outputs": [
    {
     "name": "stdout",
     "output_type": "stream",
     "text": [
      "Number of objects with distance < 1000.0 Mpc: 11224913/23181758 (48.4%)\n"
     ]
    }
   ],
   "source": [
    "print(f\"Number of objects with distance < {distance_cut:.1f} Mpc: {len(_cat)}/{n_total} ({1e2*len(_cat)/n_total:1.1f}%)\")"
   ]
  },
  {
   "cell_type": "code",
   "execution_count": null,
   "metadata": {},
   "outputs": [
    {
     "name": "stdout",
     "output_type": "stream",
     "text": [
      "Number of selected columns: 14/40\n"
     ]
    }
   ],
   "source": [
    "selected_columns = [\n",
    "\t'col1',\t#\tGLADEname\n",
    "\t'col8',\t#\tObject type flag\n",
    "\t'col9',\t#\tRA\n",
    "\t'col10',#\tDec\n",
    "\t'col29',#\tz_cmb\n",
    "\t'col30',#\tz flag\n",
    "\t'col32',#\tz_err\n",
    "\t'col33',#\td_L\n",
    "\t'col34',#\td_L err\n",
    "\t'col36',\n",
    "\t'col37',\n",
    "\t'col38',\n",
    "\t'col39',\n",
    "\t'col40',\n",
    "]\n",
    "print(f\"Number of selected columns: {len(selected_columns)}/{len(cat.colnames)}\")"
   ]
  },
  {
   "cell_type": "code",
   "execution_count": 17,
   "metadata": {},
   "outputs": [
    {
     "name": "stderr",
     "output_type": "stream",
     "text": [
      "WARNING: VerifyWarning: Keyword name 'MODIFY_AUTHOR' is greater than 8 characters or contains characters not allowed by the FITS standard; a HIERARCH card will be created. [astropy.io.fits.card]\n",
      "WARNING: VerifyWarning: Keyword name 'DISTNACE_CUT' is greater than 8 characters or contains characters not allowed by the FITS standard; a HIERARCH card will be created. [astropy.io.fits.card]\n"
     ]
    }
   ],
   "source": [
    "subcat = _cat[selected_columns]\n",
    "subcat.meta['UPDATE'] = '2023-04-19'\n",
    "subcat.meta['MODIFY_AUTHOR'] = 'Gregory Paek'\n",
    "subcat.meta['DISTNACE_CUT'] = 1000.\n",
    "\n",
    "subcat.write(f'{os.path.dirname(path_cat)}/GLADE+_230419.fits',)"
   ]
  },
  {
   "cell_type": "code",
   "execution_count": 27,
   "metadata": {},
   "outputs": [
    {
     "data": {
      "text/plain": [
       "'782.81 MB'"
      ]
     },
     "execution_count": 27,
     "metadata": {},
     "output_type": "execute_result"
    }
   ],
   "source": [
    "newcat = f'{os.path.dirname(path_cat)}/GLADE+_230419.fits'\n",
    "lightened_size = os.path.getsize(newcat)\n",
    "convert_size(lightened_size)"
   ]
  },
  {
   "cell_type": "code",
   "execution_count": 26,
   "metadata": {},
   "outputs": [
    {
     "name": "stdout",
     "output_type": "stream",
     "text": [
      "Saved 88.8 %\n"
     ]
    }
   ],
   "source": [
    "print(f\"Saved {1e2*(1-lightened_size/initial_size):.1f} %\")"
   ]
  },
  {
   "cell_type": "code",
   "execution_count": 28,
   "metadata": {},
   "outputs": [
    {
     "name": "stdout",
     "output_type": "stream",
     "text": [
      "Time to read lightened GLADE+.fits: 1.062 seconds\n"
     ]
    }
   ],
   "source": [
    "st = time.time()\n",
    "cat = Table.read(newcat, format='fits')\n",
    "delt = time.time() - st\n",
    "print(f\"Time to read lightened GLADE+.fits: {delt:.3f} seconds\")"
   ]
  }
 ],
 "metadata": {
  "kernelspec": {
   "display_name": "gecko",
   "language": "python",
   "name": "python3"
  },
  "language_info": {
   "codemirror_mode": {
    "name": "ipython",
    "version": 3
   },
   "file_extension": ".py",
   "mimetype": "text/x-python",
   "name": "python",
   "nbconvert_exporter": "python",
   "pygments_lexer": "ipython3",
   "version": "3.9.undefined"
  },
  "orig_nbformat": 4
 },
 "nbformat": 4,
 "nbformat_minor": 2
}
